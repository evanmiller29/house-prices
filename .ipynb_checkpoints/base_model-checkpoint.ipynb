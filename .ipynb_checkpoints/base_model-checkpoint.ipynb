{
 "cells": [
  {
   "cell_type": "code",
   "execution_count": 62,
   "metadata": {
    "collapsed": true
   },
   "outputs": [],
   "source": [
    "import pandas as pd\n",
    "import numpy as np\n",
    "import matplotlib.pyplot as plt\n",
    "from sklearn.ensemble import RandomForestRegressor\n",
    "\n",
    "test = pd.read_csv('Data/test.csv')\n",
    "train = pd.read_csv('Data/train.csv')\n",
    "\n",
    "test['SalePrice'] = ''\n",
    "y_train, y_test = train['SalePrice'].values, test['SalePrice'].values\n",
    "\n",
    "dropping = ['SalePrice', 'Id']\n",
    "\n",
    "X_train = train.drop(dropping, 1)\n",
    "X_test = test.drop(dropping, 1)\n",
    "\n",
    "numeric_vars = ['LotFrontage', 'LotArea', 'BsmtFinSF1', 'BsmtUnfSF', 'TotalBsmtSF',\n",
    "               '1stFlrSF', '2ndFlrSF', 'LowQualFinSF', 'GrLivArea', 'BsmtFullBath', 'BsmtHalfBath',\n",
    "               'FullBath', 'HalfBath', 'BedroomAbvGr', 'KitchenAbvGr', 'TotRmsAbvGrd', 'Fireplaces', 'GarageCars',\n",
    "               'GarageArea', 'WoodDeckSF', 'OpenPorchSF', 'EnclosedPorch', '3SsnPorch',\n",
    "               'ScreenPorch', 'PoolArea', 'MiscVal']\n",
    "\n",
    "X_train_numeric = X_train[numeric_vars]\n",
    "X_test_numeric = X_test[numeric_vars]\n",
    "\n",
    "X_train_cat = X_train.drop(numeric_vars, 1)\n",
    "X_test_cat = X_test.drop(numeric_vars, 1)\n",
    "\n",
    "X_train_cat = pd.get_dummies(X_train_cat)\n",
    "X_test_cat = pd.get_dummies(X_test_cat)\n",
    "\n",
    "X_train = pd.concat([X_train_numeric, X_train_cat], axis = 1)\n",
    "X_test = pd.concat([X_test_numeric, X_test_cat], axis = 1)\n",
    "\n",
    "train_cols = X_train.columns.values\n",
    "test_cols = X_test.columns.values\n",
    "\n",
    "diffs = list(set(train_cols) - set(test_cols))\n",
    "\n",
    "for col in diffs:\n",
    "    X_test[col] = 0\n",
    "\n",
    "# Can unit test for different column numbers as a result of pd.get_dummies()    \n",
    "    \n",
    "X_train = X_train.fillna(X_train.mean())\n",
    "X_test = X_test.fillna(X_test.mean())\n",
    "\n",
    "X_train = X_train.as_matrix()\n",
    "X_test = X_test.as_matrix()\n",
    "\n",
    "clf = RandomForestRegressor(n_estimators = 100, random_state=2)\n",
    "clf.fit(X_train, y_train)\n",
    "\n",
    "y_pred = clf.predict(X_test)\n",
    "\n",
    "pred_df = pd.DataFrame(y_pred, index=test[\"Id\"], columns=[\"SalePrice\"])\n",
    "\n",
    "print('Outputting predictions..')\n",
    "pred_df.to_csv('output.csv', header=True, index_label='Id')"
   ]
  }
 ],
 "metadata": {
  "anaconda-cloud": {},
  "kernelspec": {
   "display_name": "Python [conda root]",
   "language": "python",
   "name": "conda-root-py"
  },
  "language_info": {
   "codemirror_mode": {
    "name": "ipython",
    "version": 3
   },
   "file_extension": ".py",
   "mimetype": "text/x-python",
   "name": "python",
   "nbconvert_exporter": "python",
   "pygments_lexer": "ipython3",
   "version": "3.5.2"
  }
 },
 "nbformat": 4,
 "nbformat_minor": 1
}
