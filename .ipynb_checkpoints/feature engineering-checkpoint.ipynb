{
 "cells": [
  {
   "cell_type": "code",
   "execution_count": 82,
   "metadata": {
    "collapsed": true
   },
   "outputs": [],
   "source": [
    "%matplotlib inline\n",
    "\n",
    "import pandas as pd\n",
    "import numpy as np\n",
    "import matplotlib.pyplot as plt\n",
    "\n",
    "test = pd.read_csv('Data/test.csv')\n",
    "train = pd.read_csv('Data/train.csv')"
   ]
  },
  {
   "cell_type": "code",
   "execution_count": 83,
   "metadata": {
    "collapsed": true
   },
   "outputs": [],
   "source": [
    "import seaborn as sns\n",
    "sns.set(color_codes=True)"
   ]
  },
  {
   "cell_type": "code",
   "execution_count": 84,
   "metadata": {
    "collapsed": true
   },
   "outputs": [],
   "source": [
    "test['file'] = 'test'\n",
    "test['SalePrice'] = np.nan\n",
    "train['file'] = 'train'"
   ]
  },
  {
   "cell_type": "code",
   "execution_count": 85,
   "metadata": {
    "collapsed": false
   },
   "outputs": [
    {
     "name": "stdout",
     "output_type": "stream",
     "text": [
      "Length of columns in test (82), train (82) and the number that match between the two (82)\n"
     ]
    }
   ],
   "source": [
    "test_names = test.columns\n",
    "train_names = train.columns\n",
    "\n",
    "names_match = set(test_names) & set(train_names)\n",
    "\n",
    "print('Length of columns in test (%s), train (%s) and the number that match between the two (%s)' %(len(test_names), len(train_names), \n",
    "                                                                                              len(names_match)))"
   ]
  },
  {
   "cell_type": "code",
   "execution_count": 86,
   "metadata": {
    "collapsed": false
   },
   "outputs": [
    {
     "name": "stdout",
     "output_type": "stream",
     "text": [
      "Combining test and train into one long dataset for analysis. Please note that absence of sale price = NaN\n",
      "Test was 1459 rows long, train was 1460 and the combined df is 2919 rows long\n"
     ]
    }
   ],
   "source": [
    "frames = [train, test]\n",
    "\n",
    "print ('Combining test and train into one long dataset for analysis. Please note that absence of sale price = NaN')\n",
    "ttl_df = pd.concat(frames)\n",
    "\n",
    "print ('Test was %s rows long, train was %s and the combined df is %s rows long' % (test.shape[0], train.shape[0], \n",
    "                                                                                    ttl_df.shape[0]))"
   ]
  },
  {
   "cell_type": "code",
   "execution_count": 87,
   "metadata": {
    "collapsed": false
   },
   "outputs": [
    {
     "name": "stdout",
     "output_type": "stream",
     "text": [
      "Working on the categorical varaiables. Man this is gonna suck\n"
     ]
    }
   ],
   "source": [
    "print ('Working on the categorical varaiables. Man this is gonna suck')\n",
    "\n",
    "s = pd.Series(pd.Categorical(ttl_df['MSSubClass']))\n",
    "\n",
    "cats = ['1-STORY 1946 & NEWER ALL STYLES', '1-STORY 1945 & OLDER',\n",
    "        '1-STORY W/FINISHED ATTIC ALL AGES', '1-1/2 STORY - UNFINISHED ALL AGES',\n",
    "        '1-1/2 STORY FINISHED ALL AGES', '2-STORY 1946 & NEWER',\n",
    "        '2-STORY 1945 & OLDER','2-1/2 STORY ALL AGES',\n",
    "        'SPLIT OR MULTI-LEVEL', 'SPLIT FOYER',\n",
    "       'DUPLEX - ALL STYLES AND AGES', '1-STORY PUD (Planned Unit Development) - 1946 & NEWER',\n",
    "       '1-1/2 STORY PUD - ALL AGES', '2-STORY PUD - 1946 & NEWER',\n",
    "       'PUD - MULTILEVEL - INCL SPLIT LEV/FOYER', '2 FAMILY CONVERSION - ALL STYLES AND AGES']\n",
    "\n",
    "s.cat.categories = cats\n",
    "ttl_df['MSSubClass_cat'] = s"
   ]
  },
  {
   "cell_type": "markdown",
   "metadata": {},
   "source": [
    "## hypothesis: do houses that commonly have additional features (such as being referred to in feature category 2) consistently get higher sale prices?"
   ]
  },
  {
   "cell_type": "markdown",
   "metadata": {},
   "source": [
    "### Now going to look at the impact of types of finish on the houses"
   ]
  },
  {
   "cell_type": "code",
   "execution_count": 88,
   "metadata": {
    "collapsed": false
   },
   "outputs": [
    {
     "name": "stdout",
     "output_type": "stream",
     "text": [
      "VinylSd    515\n",
      "HdBoard    222\n",
      "MetalSd    220\n",
      "Wd Sdng    206\n",
      "Plywood    108\n",
      "CemntBd     61\n",
      "BrkFace     50\n",
      "WdShing     26\n",
      "Stucco      25\n",
      "AsbShng     20\n",
      "Stone        2\n",
      "BrkComm      2\n",
      "CBlock       1\n",
      "ImStucc      1\n",
      "AsphShn      1\n",
      "Name: Exterior1st, dtype: int64\n",
      "VinylSd    504\n",
      "MetalSd    214\n",
      "HdBoard    207\n",
      "Wd Sdng    197\n",
      "Plywood    142\n",
      "CmentBd     60\n",
      "Wd Shng     38\n",
      "Stucco      26\n",
      "BrkFace     25\n",
      "AsbShng     20\n",
      "ImStucc     10\n",
      "Brk Cmn      7\n",
      "Stone        5\n",
      "AsphShn      3\n",
      "Other        1\n",
      "CBlock       1\n",
      "Name: Exterior2nd, dtype: int64\n"
     ]
    }
   ],
   "source": [
    "analysis_sale = ttl_df.loc[lambda df: df.file == 'train', :]\n",
    "\n",
    "print(analysis_sale.Exterior1st.value_counts())\n",
    "print(analysis_sale.Exterior2nd.value_counts())"
   ]
  },
  {
   "cell_type": "code",
   "execution_count": 89,
   "metadata": {
    "collapsed": false
   },
   "outputs": [
    {
     "data": {
      "text/plain": [
       "(1460, 82)"
      ]
     },
     "execution_count": 89,
     "metadata": {},
     "output_type": "execute_result"
    }
   ],
   "source": [
    "train.shape"
   ]
  },
  {
   "cell_type": "code",
   "execution_count": 90,
   "metadata": {
    "collapsed": false
   },
   "outputs": [
    {
     "name": "stdout",
     "output_type": "stream",
     "text": [
      "The first exterior category has 1460 observations, while the second has 1460 \n"
     ]
    }
   ],
   "source": [
    "ext1st = analysis_sale.Exterior1st.value_counts().reset_index()\n",
    "ext2nd = analysis_sale.Exterior2nd.value_counts().reset_index()\n",
    "\n",
    "print ('The first exterior category has %s observations, while the second has %s ' % (ext1st['Exterior1st'].sum(),\n",
    "                                                                                    ext2nd['Exterior2nd'].sum()))"
   ]
  },
  {
   "cell_type": "markdown",
   "metadata": {},
   "source": [
    "### I feel that it's unlikely that every house in this dataset has two different finishes applied to each house, so I'm gonna go out on a limb and say that a number of these observations in the second group are the same as in the first. Let's see if thats the case.."
   ]
  },
  {
   "cell_type": "code",
   "execution_count": 91,
   "metadata": {
    "collapsed": false
   },
   "outputs": [
    {
     "name": "stdout",
     "output_type": "stream",
     "text": [
      "Number of observations in the main dataset 2919, 2481 of these observations that have the same exterior material\n"
     ]
    }
   ],
   "source": [
    "analysisExt = ttl_df.loc[lambda df: df.Exterior1st == df.Exterior2nd, :]\n",
    "\n",
    "print('Number of observations in the main dataset %s, %s of these observations that have the same exterior material' % (ttl_df.shape[0], analysisExt.shape[0]))"
   ]
  },
  {
   "cell_type": "markdown",
   "metadata": {},
   "source": [
    "### Wooooo - that seems to be the case. Now I want to create a variable that captures whether a house has a different exterior material from the first"
   ]
  },
  {
   "cell_type": "code",
   "execution_count": 92,
   "metadata": {
    "collapsed": true
   },
   "outputs": [],
   "source": [
    "def unique_options(x, y):\n",
    "    x = str(x)\n",
    "    y = str(y)\n",
    "    if x == y: return 0\n",
    "    return 1\n",
    "\n",
    "ttl_df['Mult_Ext'] = ttl_df.apply(lambda x: unique_options(x['Exterior1st'], x['Exterior2nd']), axis=1)\n",
    "ttl_df['Mult_conds'] = ttl_df.apply(lambda x: unique_options(x['Condition1'], x['Condition2']), axis = 1)\n",
    "ttl_df['Remodelled'] = ttl_df.apply(lambda x: unique_options(x['YearBuilt'], x['YearRemodAdd']), axis = 1)"
   ]
  },
  {
   "cell_type": "markdown",
   "metadata": {},
   "source": [
    "### Now we've got the flag that determines whether a unique condition occurs, we'll want to go and understand which unique options are being used"
   ]
  },
  {
   "cell_type": "code",
   "execution_count": 93,
   "metadata": {
    "collapsed": false
   },
   "outputs": [],
   "source": [
    "def second_recode(x, y):\n",
    "        \n",
    "    if y == 1: return x\n",
    "    else: return np.nan\n",
    "\n",
    "ttl_df['Exterior2nd'] = ttl_df.apply(lambda x: second_recode(x['Exterior2nd'], x['Mult_Ext']), axis = 1)\n",
    "ttl_df['Condition2'] = ttl_df.apply(lambda x: second_recode(x['Condition2'], x['Mult_conds']), axis = 1)\n",
    "ttl_df['YearRemodAdd'] = ttl_df.apply(lambda x: second_recode(x['YearRemodAdd'], x['Remodelled']), axis = 1)"
   ]
  },
  {
   "cell_type": "code",
   "execution_count": 94,
   "metadata": {
    "collapsed": false
   },
   "outputs": [
    {
     "data": {
      "text/plain": [
       "1950.0    339\n",
       "2006.0    113\n",
       "2007.0     83\n",
       "2005.0     75\n",
       "2000.0     62\n",
       "2004.0     54\n",
       "2008.0     44\n",
       "2002.0     44\n",
       "2003.0     43\n",
       "1995.0     43\n",
       "1998.0     43\n",
       "1996.0     42\n",
       "1994.0     38\n",
       "1997.0     33\n",
       "1999.0     30\n",
       "2001.0     27\n",
       "1993.0     26\n",
       "1991.0     22\n",
       "1990.0     20\n",
       "2009.0     18\n",
       "1992.0     17\n",
       "1987.0     11\n",
       "1989.0     11\n",
       "2010.0     10\n",
       "1980.0      9\n",
       "1975.0      9\n",
       "1970.0      8\n",
       "1985.0      8\n",
       "1988.0      7\n",
       "1982.0      6\n",
       "1981.0      5\n",
       "1965.0      5\n",
       "1979.0      5\n",
       "1972.0      4\n",
       "1958.0      4\n",
       "1984.0      4\n",
       "1986.0      4\n",
       "1983.0      4\n",
       "1973.0      3\n",
       "1978.0      3\n",
       "1960.0      3\n",
       "1976.0      2\n",
       "1955.0      2\n",
       "1963.0      2\n",
       "1968.0      2\n",
       "1969.0      2\n",
       "1966.0      1\n",
       "1977.0      1\n",
       "1974.0      1\n",
       "1962.0      1\n",
       "1959.0      1\n",
       "1971.0      1\n",
       "1954.0      1\n",
       "1953.0      1\n",
       "1952.0      1\n",
       "1967.0      1\n",
       "Name: YearRemodAdd, dtype: int64"
      ]
     },
     "execution_count": 94,
     "metadata": {},
     "output_type": "execute_result"
    }
   ],
   "source": [
    "ttl_df.YearRemodAdd.value_counts()"
   ]
  },
  {
   "cell_type": "markdown",
   "metadata": {},
   "source": [
    "## Now will want to combine different size measures into one total measure. Will want to check what happens to the second size categories when the house doesn't have any second floor. Who knows - maybe some weird shit might happen"
   ]
  },
  {
   "cell_type": "code",
   "execution_count": 95,
   "metadata": {
    "collapsed": false
   },
   "outputs": [
    {
     "data": {
      "text/plain": [
       "0      1468\n",
       "467       1\n",
       "192       1\n",
       "144       1\n",
       "Name: 2ndFlrSF, dtype: int64"
      ]
     },
     "execution_count": 95,
     "metadata": {},
     "output_type": "execute_result"
    }
   ],
   "source": [
    "analysis_table = ttl_df.loc[ttl_df.HouseStyle == '1Story', :]\n",
    "analysis_table['2ndFlrSF'].value_counts()"
   ]
  },
  {
   "cell_type": "markdown",
   "metadata": {},
   "source": [
    "## Faaaaaaaar I'm lucky that I checked this because there is either errors in the SF measurement or they aren't truly 1story houses. \n",
    "\n",
    "## Since these have been measured I'm going to recode these to 'possible second floors'"
   ]
  },
  {
   "cell_type": "code",
   "execution_count": 96,
   "metadata": {
    "collapsed": true
   },
   "outputs": [],
   "source": [
    "def floor_error(x, y):\n",
    "    x = str(x)\n",
    "    if x.find('1Story') == 0 and y > 0: return 'Pos2ndfloor'\n",
    "    else: return x\n",
    "\n",
    "ttl_df['HouseStyle_recode'] = ttl_df.apply(lambda x: floor_error(x['HouseStyle'], x['2ndFlrSF']), axis=1)"
   ]
  },
  {
   "cell_type": "code",
   "execution_count": 97,
   "metadata": {
    "collapsed": true
   },
   "outputs": [],
   "source": [
    "def ttl_cols(x, y):\n",
    "    return x + y\n",
    "\n",
    "ttl_df['ttl_floor_SF'] = ttl_df.apply(lambda x: x['1stFlrSF'] + x['2ndFlrSF'] + x['BsmtFinSF1'] + x['BsmtFinSF2'], axis = 1)\n",
    "ttl_df['ttl_bath'] = ttl_df.apply(lambda x:  x['BsmtFullBath'] + 0.5 * x['BsmtHalfBath'] + x['FullBath'] + 0.5 * x['HalfBath'], axis = 1)"
   ]
  },
  {
   "cell_type": "markdown",
   "metadata": {},
   "source": [
    "## Now wanting to look atM the years since remodel. Maybe something interesting will fall out?"
   ]
  },
  {
   "cell_type": "code",
   "execution_count": 98,
   "metadata": {
    "collapsed": false
   },
   "outputs": [
    {
     "data": {
      "text/plain": [
       "2005    142\n",
       "2006    138\n",
       "2007    109\n",
       "2004     99\n",
       "2003     88\n",
       "1977     57\n",
       "1920     57\n",
       "1976     54\n",
       "1999     52\n",
       "2008     49\n",
       "1958     48\n",
       "2000     48\n",
       "2002     47\n",
       "1998     46\n",
       "1968     45\n",
       "1959     43\n",
       "1954     43\n",
       "1910     43\n",
       "1970     42\n",
       "1967     41\n",
       "1972     40\n",
       "1956     39\n",
       "1971     39\n",
       "1978     39\n",
       "1993     39\n",
       "1950     38\n",
       "1994     37\n",
       "1960     37\n",
       "1940     36\n",
       "1966     35\n",
       "       ... \n",
       "1982      7\n",
       "1931      7\n",
       "1985      7\n",
       "1942      6\n",
       "1912      5\n",
       "1919      5\n",
       "1932      5\n",
       "1880      5\n",
       "1934      5\n",
       "2010      3\n",
       "1905      3\n",
       "1895      3\n",
       "1917      3\n",
       "1908      2\n",
       "1885      2\n",
       "1901      2\n",
       "1892      2\n",
       "1882      1\n",
       "1896      1\n",
       "1898      1\n",
       "1902      1\n",
       "1907      1\n",
       "1904      1\n",
       "1906      1\n",
       "1913      1\n",
       "1911      1\n",
       "1875      1\n",
       "1879      1\n",
       "1893      1\n",
       "1872      1\n",
       "Name: YearBuilt, dtype: int64"
      ]
     },
     "execution_count": 98,
     "metadata": {},
     "output_type": "execute_result"
    }
   ],
   "source": [
    "ttl_df['YearBuilt'].value_counts()"
   ]
  },
  {
   "cell_type": "markdown",
   "metadata": {},
   "source": [
    "## I think that using this variable would be pretty misleading as it doesn't reflect the current state of the house (remodel date will likely do that). That being said, you would expect that some of the oldest houses probably include large plots of land too.."
   ]
  },
  {
   "cell_type": "code",
   "execution_count": 99,
   "metadata": {
    "collapsed": false
   },
   "outputs": [
    {
     "data": {
      "text/plain": [
       "0    1560\n",
       "1    1359\n",
       "Name: Remodelled, dtype: int64"
      ]
     },
     "execution_count": 99,
     "metadata": {},
     "output_type": "execute_result"
    }
   ],
   "source": [
    "ttl_df['Remodelled'].value_counts()"
   ]
  },
  {
   "cell_type": "markdown",
   "metadata": {},
   "source": [
    "## Now I probably want to look the number of years between sale and remodel date to get a better idea of which houses were in a 'new' condition by the sale date"
   ]
  },
  {
   "cell_type": "code",
   "execution_count": 100,
   "metadata": {
    "collapsed": false
   },
   "outputs": [],
   "source": [
    "ttl_df['YearsSinceRemodel'] = ttl_df.apply(lambda x: x.YrSold - x.YearRemodAdd, axis=1)"
   ]
  },
  {
   "cell_type": "code",
   "execution_count": 101,
   "metadata": {
    "collapsed": false
   },
   "outputs": [
    {
     "data": {
      "text/plain": [
       " 0.0     124\n",
       " 56.0     91\n",
       " 1.0      85\n",
       " 59.0     71\n",
       " 58.0     68\n",
       " 57.0     68\n",
       " 3.0      60\n",
       " 2.0      59\n",
       " 4.0      58\n",
       " 8.0      55\n",
       " 5.0      54\n",
       " 60.0     42\n",
       " 9.0      41\n",
       " 12.0     40\n",
       " 13.0     39\n",
       " 10.0     38\n",
       " 6.0      38\n",
       " 7.0      37\n",
       " 11.0     36\n",
       " 14.0     34\n",
       " 16.0     30\n",
       " 15.0     25\n",
       " 17.0     19\n",
       " 19.0     11\n",
       " 20.0     11\n",
       " 18.0      9\n",
       " 27.0      9\n",
       " 21.0      8\n",
       " 23.0      7\n",
       " 22.0      7\n",
       " 26.0      7\n",
       " 25.0      6\n",
       " 28.0      5\n",
       " 44.0      5\n",
       " 31.0      5\n",
       " 32.0      5\n",
       " 36.0      5\n",
       " 38.0      5\n",
       " 33.0      4\n",
       " 39.0      4\n",
       " 48.0      4\n",
       " 24.0      3\n",
       " 29.0      3\n",
       " 34.0      3\n",
       " 43.0      3\n",
       " 53.0      2\n",
       " 51.0      2\n",
       " 50.0      2\n",
       "-1.0       2\n",
       " 35.0      2\n",
       " 30.0      2\n",
       " 47.0      1\n",
       " 41.0      1\n",
       " 49.0      1\n",
       "-2.0       1\n",
       " 55.0      1\n",
       " 40.0      1\n",
       "Name: YearsSinceRemodel, dtype: int64"
      ]
     },
     "execution_count": 101,
     "metadata": {},
     "output_type": "execute_result"
    }
   ],
   "source": [
    "ttl_df.YearsSinceRemodel.value_counts()"
   ]
  },
  {
   "cell_type": "markdown",
   "metadata": {},
   "source": [
    "## Interestingly there's a couple negative years included in the dataset, indicating that the remodel year was more recent than the sale year. Which doesn't make much sense if this data was collected at sale time"
   ]
  },
  {
   "cell_type": "code",
   "execution_count": 102,
   "metadata": {
    "collapsed": false
   },
   "outputs": [
    {
     "data": {
      "text/html": [
       "<div>\n",
       "<table border=\"1\" class=\"dataframe\">\n",
       "  <thead>\n",
       "    <tr style=\"text-align: right;\">\n",
       "      <th></th>\n",
       "      <th>1stFlrSF</th>\n",
       "      <th>2ndFlrSF</th>\n",
       "      <th>3SsnPorch</th>\n",
       "      <th>Alley</th>\n",
       "      <th>BedroomAbvGr</th>\n",
       "      <th>BldgType</th>\n",
       "      <th>BsmtCond</th>\n",
       "      <th>BsmtExposure</th>\n",
       "      <th>BsmtFinSF1</th>\n",
       "      <th>BsmtFinSF2</th>\n",
       "      <th>...</th>\n",
       "      <th>file</th>\n",
       "      <th>MSSubClass_cat</th>\n",
       "      <th>Mult_Ext</th>\n",
       "      <th>Mult_conds</th>\n",
       "      <th>Remodelled</th>\n",
       "      <th>HouseStyle_recode</th>\n",
       "      <th>ttl_floor_SF</th>\n",
       "      <th>ttl_bath</th>\n",
       "      <th>YearsSinceRemodel</th>\n",
       "      <th>recent_remodel</th>\n",
       "    </tr>\n",
       "  </thead>\n",
       "  <tbody>\n",
       "    <tr>\n",
       "      <th>523</th>\n",
       "      <td>3138</td>\n",
       "      <td>1538</td>\n",
       "      <td>0</td>\n",
       "      <td>NaN</td>\n",
       "      <td>3</td>\n",
       "      <td>1Fam</td>\n",
       "      <td>TA</td>\n",
       "      <td>Gd</td>\n",
       "      <td>2260.0</td>\n",
       "      <td>0.0</td>\n",
       "      <td>...</td>\n",
       "      <td>train</td>\n",
       "      <td>2-STORY 1946 &amp; NEWER</td>\n",
       "      <td>1</td>\n",
       "      <td>0</td>\n",
       "      <td>1</td>\n",
       "      <td>2Story</td>\n",
       "      <td>6936.0</td>\n",
       "      <td>4.5</td>\n",
       "      <td>-1.0</td>\n",
       "      <td>0</td>\n",
       "    </tr>\n",
       "    <tr>\n",
       "      <th>835</th>\n",
       "      <td>1582</td>\n",
       "      <td>570</td>\n",
       "      <td>0</td>\n",
       "      <td>NaN</td>\n",
       "      <td>3</td>\n",
       "      <td>1Fam</td>\n",
       "      <td>TA</td>\n",
       "      <td>No</td>\n",
       "      <td>0.0</td>\n",
       "      <td>0.0</td>\n",
       "      <td>...</td>\n",
       "      <td>test</td>\n",
       "      <td>1-STORY 1946 &amp; NEWER ALL STYLES</td>\n",
       "      <td>0</td>\n",
       "      <td>0</td>\n",
       "      <td>1</td>\n",
       "      <td>2Story</td>\n",
       "      <td>2152.0</td>\n",
       "      <td>2.5</td>\n",
       "      <td>-1.0</td>\n",
       "      <td>0</td>\n",
       "    </tr>\n",
       "    <tr>\n",
       "      <th>1089</th>\n",
       "      <td>5095</td>\n",
       "      <td>0</td>\n",
       "      <td>0</td>\n",
       "      <td>NaN</td>\n",
       "      <td>2</td>\n",
       "      <td>1Fam</td>\n",
       "      <td>TA</td>\n",
       "      <td>Gd</td>\n",
       "      <td>4010.0</td>\n",
       "      <td>0.0</td>\n",
       "      <td>...</td>\n",
       "      <td>test</td>\n",
       "      <td>1-STORY PUD (Planned Unit Development) - 1946 ...</td>\n",
       "      <td>1</td>\n",
       "      <td>0</td>\n",
       "      <td>1</td>\n",
       "      <td>1Story</td>\n",
       "      <td>9105.0</td>\n",
       "      <td>4.0</td>\n",
       "      <td>-2.0</td>\n",
       "      <td>0</td>\n",
       "    </tr>\n",
       "  </tbody>\n",
       "</table>\n",
       "<p>3 rows × 91 columns</p>\n",
       "</div>"
      ],
      "text/plain": [
       "      1stFlrSF  2ndFlrSF  3SsnPorch Alley  BedroomAbvGr BldgType BsmtCond  \\\n",
       "523       3138      1538          0   NaN             3     1Fam       TA   \n",
       "835       1582       570          0   NaN             3     1Fam       TA   \n",
       "1089      5095         0          0   NaN             2     1Fam       TA   \n",
       "\n",
       "     BsmtExposure  BsmtFinSF1  BsmtFinSF2      ...         file  \\\n",
       "523            Gd      2260.0         0.0      ...        train   \n",
       "835            No         0.0         0.0      ...         test   \n",
       "1089           Gd      4010.0         0.0      ...         test   \n",
       "\n",
       "                                         MSSubClass_cat  Mult_Ext  Mult_conds  \\\n",
       "523                                2-STORY 1946 & NEWER         1           0   \n",
       "835                     1-STORY 1946 & NEWER ALL STYLES         0           0   \n",
       "1089  1-STORY PUD (Planned Unit Development) - 1946 ...         1           0   \n",
       "\n",
       "     Remodelled  HouseStyle_recode ttl_floor_SF ttl_bath YearsSinceRemodel  \\\n",
       "523           1             2Story       6936.0      4.5              -1.0   \n",
       "835           1             2Story       2152.0      2.5              -1.0   \n",
       "1089          1             1Story       9105.0      4.0              -2.0   \n",
       "\n",
       "     recent_remodel  \n",
       "523               0  \n",
       "835               0  \n",
       "1089              0  \n",
       "\n",
       "[3 rows x 91 columns]"
      ]
     },
     "execution_count": 102,
     "metadata": {},
     "output_type": "execute_result"
    }
   ],
   "source": [
    "recent_threshold = 10\n",
    "\n",
    "def recent_remodel(x, y):\n",
    "    if x >= y: return 1\n",
    "    else: return 0\n",
    "    \n",
    "ttl_df['HouseStyle_recode'] = ttl_df.apply(lambda x: floor_error(x['HouseStyle'], x['2ndFlrSF']), axis=1)    \n",
    "ttl_df['recent_remodel'] = ttl_df.apply(lambda x: recent_remodel(x['YearsSinceRemodel'], recent_threshold), axis=1)\n",
    "\n",
    "ttl_df.loc[lambda df: df.YearsSinceRemodel < 0, :]"
   ]
  },
  {
   "cell_type": "code",
   "execution_count": 103,
   "metadata": {
    "collapsed": false
   },
   "outputs": [
    {
     "data": {
      "image/png": "[encoded data removed]",
      "text/plain": [
       "<matplotlib.figure.Figure at 0x1efe432bcc0>"
      ]
     },
     "metadata": {},
     "output_type": "display_data"
    }
   ],
   "source": [
    "graph_df = ttl_df.loc[lambda df: df.file == 'train', :]\n",
    "\n",
    "ax = sns.violinplot(x=\"recent_remodel\", y=\"SalePrice\", data=graph_df)\n",
    "ax.set(xlabel='Remodel in the last five years', ylabel = 'Sale price')\n",
    "plt.show()"
   ]
  },
  {
   "cell_type": "markdown",
   "metadata": {},
   "source": [
    "## Now I'm gonna look at some aggregate features to include to the dataset. Mainly gonna use means/medians here"
   ]
  },
  {
   "cell_type": "code",
   "execution_count": 112,
   "metadata": {
    "collapsed": false
   },
   "outputs": [],
   "source": [
    "grouped = ttl_df.loc[ttl_df['file'] == 'train', :].groupby('Neighborhood')\n",
    "med_neighbour_sale = grouped.SalePrice.median().reset_index()\n",
    "\n",
    "med_neighbour_sale.rename(columns = {'SalePrice':'AreaAverage'}, inplace = True)"
   ]
  },
  {
   "cell_type": "code",
   "execution_count": 113,
   "metadata": {
    "collapsed": false
   },
   "outputs": [],
   "source": [
    "ttl_df = pd.merge(ttl_df, med_neighbour_sale, how = 'left', on='Neighborhood')"
   ]
  }
 ],
 "metadata": {
  "anaconda-cloud": {},
  "kernelspec": {
   "display_name": "Python [conda root]",
   "language": "python",
   "name": "conda-root-py"
  },
  "language_info": {
   "codemirror_mode": {
    "name": "ipython",
    "version": 3
   },
   "file_extension": ".py",
   "mimetype": "text/x-python",
   "name": "python",
   "nbconvert_exporter": "python",
   "pygments_lexer": "ipython3",
   "version": "3.5.2"
  }
 },
 "nbformat": 4,
 "nbformat_minor": 1
}
